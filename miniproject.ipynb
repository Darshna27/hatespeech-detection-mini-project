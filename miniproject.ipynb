{
 "cells": [
  {
   "cell_type": "code",
   "execution_count": 4,
   "id": "6a376e1e-43cf-45d0-8023-a02e26e20fed",
   "metadata": {},
   "outputs": [
    {
     "name": "stdout",
     "output_type": "stream",
     "text": [
      "ref                                                         title                                         size  lastUpdated          downloadCount  voteCount  usabilityRating  \n",
      "----------------------------------------------------------  -------------------------------------------  -----  -------------------  -------------  ---------  ---------------  \n",
      "bhadramohit/customer-shopping-latest-trends-dataset         Customer Shopping (Latest Trends) Dataset     76KB  2024-11-23 15:26:12          13195        255  1.0              \n",
      "hopesb/student-depression-dataset                           Student Depression Dataset.                  454KB  2024-11-22 17:56:03           9918        131  1.0              \n",
      "b'denkuznetz/traffic-accident-prediction                      Traffic Accident Prediction \\xf0\\x9f\\x92\\xa5\\xf0\\x9f\\x9a\\x97                10KB  2024-12-11 11:04:47           1224         28  1.0              '\n",
      "b'denkuznetz/taxi-price-prediction                            Taxi Price Regression \\xf0\\x9f\\x9a\\x95                       20KB  2024-12-13 09:29:17           1352         32  1.0              '\n",
      "gauthamvijayaraj/spotify-tracks-dataset-updated-every-week  Spotify Tracks Dataset (Updated every week)    5MB  2024-12-09 18:00:01           1831         36  1.0              \n",
      "mujtabamatin/air-quality-and-pollution-assessment           Air Quality and Pollution Assessment          84KB  2024-12-04 15:29:51           4760         83  1.0              \n",
      "jamiedcollins/hjsjdjdjdjd                                   Apple Financials 2009-2024                     1KB  2024-12-08 11:51:48           1218         23  1.0              \n",
      "malaiarasugraj/global-health-statistics                     Global Health Statistics                      44MB  2024-11-27 10:52:27           4088         47  1.0              \n",
      "steve1215rogg/student-lifestyle-dataset                     student lifestyle dataset                     22KB  2024-11-11 19:11:28          12022        158  1.0              \n",
      "ashutosh598/shoes-price-for-various-brands                  Shoes price for various brands                32KB  2024-12-03 21:28:48           1373         25  1.0              \n",
      "b'denkuznetz/housing-prices-regression                        Housing Prices Regression \\xf0\\x9f\\x8f\\x98\\xef\\xb8\\x8f                  24KB  2024-12-10 15:44:34           1462         28  1.0              '\n",
      "steve1215rogg/e-commerce-dataset                            E-Commerce Dataset                            90KB  2024-11-22 22:10:02           4730         63  1.0              \n",
      "zafarali27/netflix-movies-and-tv-shows                      Netflix Movies and TV Shows                   28KB  2024-11-23 07:53:10           3203         56  1.0              \n",
      "nadeemajeedch/employee-performance-and-salary-dataset       Employee Performance and Salary Dataset      215KB  2024-12-10 14:45:08           1308         56  0.8235294        \n",
      "b'itzusama/amazon-stock-market-data-2015-2024                 Amazon Stock Market Data (2015-2024) \\xf0\\x9f\\x93\\x88        61KB  2024-12-04 10:57:49            913         22  0.88235295       '\n",
      "srisaisuhassanisetty/fake-job-postings                      Fake Job Postings                            702KB  2024-12-02 23:32:56            803         24  0.9411765        \n",
      "muhammaddawood42/nvidia-stock-data                          NVIDIA-STOCK-DATA                             58KB  2024-12-10 12:22:01            650         27  1.0              \n",
      "mohitkumar282/used-car-dataset                              Used Car Dataset                             230KB  2024-11-24 09:14:58           4129         46  1.0              \n",
      "imranalishahh/marketing-and-product-performance-dataset     Marketing and Product Performance Dataset    552KB  2024-12-08 08:58:53           1019         29  1.0              \n",
      "ikynahidwin/depression-student-dataset                      Depression Student Dataset                     4KB  2024-11-20 06:42:01           6283         89  1.0              \n"
     ]
    }
   ],
   "source": [
    "!kaggle datasets list\n"
   ]
  },
  {
   "cell_type": "code",
   "execution_count": 6,
   "id": "2a009c89-04bf-4176-a657-c6014047dc75",
   "metadata": {},
   "outputs": [
    {
     "name": "stdout",
     "output_type": "stream",
     "text": [
      "jigsaw-toxic-comment-classification-challenge.zip: Skipping, found more recently modified local copy (use --force to force download)\n"
     ]
    }
   ],
   "source": [
    "!kaggle competitions download -c jigsaw-toxic-comment-classification-challenge\n"
   ]
  },
  {
   "cell_type": "code",
   "execution_count": 7,
   "id": "2fc18d71-2e31-462a-93ba-8681e35c6f33",
   "metadata": {},
   "outputs": [
    {
     "data": {
      "text/plain": [
       "['sample_submission.csv.zip',\n",
       " 'test.csv.zip',\n",
       " 'test_labels.csv.zip',\n",
       " 'train.csv.zip']"
      ]
     },
     "execution_count": 7,
     "metadata": {},
     "output_type": "execute_result"
    }
   ],
   "source": [
    "import zipfile\n",
    "import os\n",
    "\n",
    "# Define the path to the downloaded zip file\n",
    "zip_file_path = 'jigsaw-toxic-comment-classification-challenge.zip'  # Adjust this path if necessary\n",
    "\n",
    "# Unzip the file\n",
    "with zipfile.ZipFile(zip_file_path, 'r') as zip_ref:\n",
    "    zip_ref.extractall('jigsaw-toxic-comment-classification')  # Extract to a folder named 'jigsaw-toxic-comment-classification'\n",
    "\n",
    "# List the extracted files\n",
    "os.listdir('jigsaw-toxic-comment-classification')\n"
   ]
  },
  {
   "cell_type": "code",
   "execution_count": 5,
   "id": "4132503d-481d-447a-8126-460dc7362363",
   "metadata": {},
   "outputs": [
    {
     "data": {
      "text/html": [
       "<div>\n",
       "<style scoped>\n",
       "    .dataframe tbody tr th:only-of-type {\n",
       "        vertical-align: middle;\n",
       "    }\n",
       "\n",
       "    .dataframe tbody tr th {\n",
       "        vertical-align: top;\n",
       "    }\n",
       "\n",
       "    .dataframe thead th {\n",
       "        text-align: right;\n",
       "    }\n",
       "</style>\n",
       "<table border=\"1\" class=\"dataframe\">\n",
       "  <thead>\n",
       "    <tr style=\"text-align: right;\">\n",
       "      <th></th>\n",
       "      <th>id</th>\n",
       "      <th>comment_text</th>\n",
       "      <th>toxic</th>\n",
       "      <th>severe_toxic</th>\n",
       "      <th>obscene</th>\n",
       "      <th>threat</th>\n",
       "      <th>insult</th>\n",
       "      <th>identity_hate</th>\n",
       "    </tr>\n",
       "  </thead>\n",
       "  <tbody>\n",
       "    <tr>\n",
       "      <th>0</th>\n",
       "      <td>0000997932d777bf</td>\n",
       "      <td>Explanation\\nWhy the edits made under my usern...</td>\n",
       "      <td>0</td>\n",
       "      <td>0</td>\n",
       "      <td>0</td>\n",
       "      <td>0</td>\n",
       "      <td>0</td>\n",
       "      <td>0</td>\n",
       "    </tr>\n",
       "    <tr>\n",
       "      <th>1</th>\n",
       "      <td>000103f0d9cfb60f</td>\n",
       "      <td>D'aww! He matches this background colour I'm s...</td>\n",
       "      <td>0</td>\n",
       "      <td>0</td>\n",
       "      <td>0</td>\n",
       "      <td>0</td>\n",
       "      <td>0</td>\n",
       "      <td>0</td>\n",
       "    </tr>\n",
       "    <tr>\n",
       "      <th>2</th>\n",
       "      <td>000113f07ec002fd</td>\n",
       "      <td>Hey man, I'm really not trying to edit war. It...</td>\n",
       "      <td>0</td>\n",
       "      <td>0</td>\n",
       "      <td>0</td>\n",
       "      <td>0</td>\n",
       "      <td>0</td>\n",
       "      <td>0</td>\n",
       "    </tr>\n",
       "    <tr>\n",
       "      <th>3</th>\n",
       "      <td>0001b41b1c6bb37e</td>\n",
       "      <td>\"\\nMore\\nI can't make any real suggestions on ...</td>\n",
       "      <td>0</td>\n",
       "      <td>0</td>\n",
       "      <td>0</td>\n",
       "      <td>0</td>\n",
       "      <td>0</td>\n",
       "      <td>0</td>\n",
       "    </tr>\n",
       "    <tr>\n",
       "      <th>4</th>\n",
       "      <td>0001d958c54c6e35</td>\n",
       "      <td>You, sir, are my hero. Any chance you remember...</td>\n",
       "      <td>0</td>\n",
       "      <td>0</td>\n",
       "      <td>0</td>\n",
       "      <td>0</td>\n",
       "      <td>0</td>\n",
       "      <td>0</td>\n",
       "    </tr>\n",
       "  </tbody>\n",
       "</table>\n",
       "</div>"
      ],
      "text/plain": [
       "                 id                                       comment_text  toxic  \\\n",
       "0  0000997932d777bf  Explanation\\nWhy the edits made under my usern...      0   \n",
       "1  000103f0d9cfb60f  D'aww! He matches this background colour I'm s...      0   \n",
       "2  000113f07ec002fd  Hey man, I'm really not trying to edit war. It...      0   \n",
       "3  0001b41b1c6bb37e  \"\\nMore\\nI can't make any real suggestions on ...      0   \n",
       "4  0001d958c54c6e35  You, sir, are my hero. Any chance you remember...      0   \n",
       "\n",
       "   severe_toxic  obscene  threat  insult  identity_hate  \n",
       "0             0        0       0       0              0  \n",
       "1             0        0       0       0              0  \n",
       "2             0        0       0       0              0  \n",
       "3             0        0       0       0              0  \n",
       "4             0        0       0       0              0  "
      ]
     },
     "execution_count": 5,
     "metadata": {},
     "output_type": "execute_result"
    }
   ],
   "source": [
    "import pandas as pd\n",
    "\n",
    "# Load the training dataset\n",
    "train_df = pd.read_csv('jigsaw-toxic-comment-classification/train.csv.zip')\n",
    "\n",
    "# Display the first few rows\n",
    "train_df.head()\n"
   ]
  },
  {
   "cell_type": "code",
   "execution_count": 6,
   "id": "0b1ac1be-8497-48a9-91d5-97179351a2ed",
   "metadata": {},
   "outputs": [
    {
     "name": "stdout",
     "output_type": "stream",
     "text": [
      "C:\\Users\\Darshna Mimrot\n"
     ]
    }
   ],
   "source": [
    "import os\n",
    "\n",
    "# Check the current working directory\n",
    "print(os.getcwd())\n"
   ]
  },
  {
   "cell_type": "code",
   "execution_count": 7,
   "id": "f60e474d-bb9a-47a5-b8c2-fefdc50c4cb6",
   "metadata": {},
   "outputs": [
    {
     "name": "stdout",
     "output_type": "stream",
     "text": [
      "['extracted', 'sample_submission.csv.zip', 'test.csv.zip', 'test_labels.csv.zip', 'train.csv.zip']\n"
     ]
    }
   ],
   "source": [
    "# List files in the directory where the dataset is extracted\n",
    "extracted_dir = 'jigsaw-toxic-comment-classification'  # Change this path if needed\n",
    "files = os.listdir(extracted_dir)\n",
    "\n",
    "# Print the list of files\n",
    "print(files)\n"
   ]
  },
  {
   "cell_type": "code",
   "execution_count": 8,
   "id": "97dbd730-a190-43f5-af85-e501f1dfcdfd",
   "metadata": {},
   "outputs": [
    {
     "name": "stdout",
     "output_type": "stream",
     "text": [
      "train.csv.zip is present in the directory.\n",
      "test.csv.zip is present in the directory.\n",
      "sample_submission.csv.zip is present in the directory.\n"
     ]
    }
   ],
   "source": [
    "# Check if specific files exist\n",
    "required_files = ['train.csv.zip', 'test.csv.zip', 'sample_submission.csv.zip']\n",
    "\n",
    "for file in required_files:\n",
    "    if file in files:\n",
    "        print(f\"{file} is present in the directory.\")\n",
    "    else:\n",
    "        print(f\"{file} is missing!\")\n"
   ]
  },
  {
   "cell_type": "code",
   "execution_count": 9,
   "id": "4aa39ea7-14e0-4106-a817-ae9bec77d1da",
   "metadata": {},
   "outputs": [],
   "source": [
    "import pandas as pd\n",
    "import numpy as np\n",
    "import os\n"
   ]
  },
  {
   "cell_type": "code",
   "execution_count": 10,
   "id": "2ec6eea3-e80c-4a83-934a-d87662483d8c",
   "metadata": {},
   "outputs": [
    {
     "name": "stdout",
     "output_type": "stream",
     "text": [
      "C:\\Users\\Darshna Mimrot\n"
     ]
    }
   ],
   "source": [
    "import os\n",
    "print(os.getcwd())  # Print current working directory\n"
   ]
  },
  {
   "cell_type": "code",
   "execution_count": 11,
   "id": "be0e73d8-4dc0-49f0-be74-334671d41d8b",
   "metadata": {},
   "outputs": [
    {
     "name": "stdout",
     "output_type": "stream",
     "text": [
      "Extraction complete!\n"
     ]
    }
   ],
   "source": [
    "import zipfile\n",
    "\n",
    "# Specify the correct path to your zip file\n",
    "zip_file_path = 'C:/Users/Darshna Mimrot/jigsaw-toxic-comment-classification/train.csv.zip'\n",
    "\n",
    "# Extract the zip file to the desired location\n",
    "with zipfile.ZipFile(zip_file_path, 'r') as zip_ref:\n",
    "    zip_ref.extractall('C:/Users/Darshna Mimrot/jigsaw-toxic-comment-classification/extracted')\n",
    "\n",
    "print(\"Extraction complete!\")\n"
   ]
  },
  {
   "cell_type": "code",
   "execution_count": 12,
   "id": "87efb8d1-cb19-4723-b79a-d5e6d90999aa",
   "metadata": {},
   "outputs": [
    {
     "data": {
      "text/html": [
       "<div>\n",
       "<style scoped>\n",
       "    .dataframe tbody tr th:only-of-type {\n",
       "        vertical-align: middle;\n",
       "    }\n",
       "\n",
       "    .dataframe tbody tr th {\n",
       "        vertical-align: top;\n",
       "    }\n",
       "\n",
       "    .dataframe thead th {\n",
       "        text-align: right;\n",
       "    }\n",
       "</style>\n",
       "<table border=\"1\" class=\"dataframe\">\n",
       "  <thead>\n",
       "    <tr style=\"text-align: right;\">\n",
       "      <th></th>\n",
       "      <th>id</th>\n",
       "      <th>comment_text</th>\n",
       "      <th>toxic</th>\n",
       "      <th>severe_toxic</th>\n",
       "      <th>obscene</th>\n",
       "      <th>threat</th>\n",
       "      <th>insult</th>\n",
       "      <th>identity_hate</th>\n",
       "    </tr>\n",
       "  </thead>\n",
       "  <tbody>\n",
       "    <tr>\n",
       "      <th>0</th>\n",
       "      <td>0000997932d777bf</td>\n",
       "      <td>Explanation\\nWhy the edits made under my usern...</td>\n",
       "      <td>0</td>\n",
       "      <td>0</td>\n",
       "      <td>0</td>\n",
       "      <td>0</td>\n",
       "      <td>0</td>\n",
       "      <td>0</td>\n",
       "    </tr>\n",
       "    <tr>\n",
       "      <th>1</th>\n",
       "      <td>000103f0d9cfb60f</td>\n",
       "      <td>D'aww! He matches this background colour I'm s...</td>\n",
       "      <td>0</td>\n",
       "      <td>0</td>\n",
       "      <td>0</td>\n",
       "      <td>0</td>\n",
       "      <td>0</td>\n",
       "      <td>0</td>\n",
       "    </tr>\n",
       "    <tr>\n",
       "      <th>2</th>\n",
       "      <td>000113f07ec002fd</td>\n",
       "      <td>Hey man, I'm really not trying to edit war. It...</td>\n",
       "      <td>0</td>\n",
       "      <td>0</td>\n",
       "      <td>0</td>\n",
       "      <td>0</td>\n",
       "      <td>0</td>\n",
       "      <td>0</td>\n",
       "    </tr>\n",
       "    <tr>\n",
       "      <th>3</th>\n",
       "      <td>0001b41b1c6bb37e</td>\n",
       "      <td>\"\\nMore\\nI can't make any real suggestions on ...</td>\n",
       "      <td>0</td>\n",
       "      <td>0</td>\n",
       "      <td>0</td>\n",
       "      <td>0</td>\n",
       "      <td>0</td>\n",
       "      <td>0</td>\n",
       "    </tr>\n",
       "    <tr>\n",
       "      <th>4</th>\n",
       "      <td>0001d958c54c6e35</td>\n",
       "      <td>You, sir, are my hero. Any chance you remember...</td>\n",
       "      <td>0</td>\n",
       "      <td>0</td>\n",
       "      <td>0</td>\n",
       "      <td>0</td>\n",
       "      <td>0</td>\n",
       "      <td>0</td>\n",
       "    </tr>\n",
       "  </tbody>\n",
       "</table>\n",
       "</div>"
      ],
      "text/plain": [
       "                 id                                       comment_text  toxic  \\\n",
       "0  0000997932d777bf  Explanation\\nWhy the edits made under my usern...      0   \n",
       "1  000103f0d9cfb60f  D'aww! He matches this background colour I'm s...      0   \n",
       "2  000113f07ec002fd  Hey man, I'm really not trying to edit war. It...      0   \n",
       "3  0001b41b1c6bb37e  \"\\nMore\\nI can't make any real suggestions on ...      0   \n",
       "4  0001d958c54c6e35  You, sir, are my hero. Any chance you remember...      0   \n",
       "\n",
       "   severe_toxic  obscene  threat  insult  identity_hate  \n",
       "0             0        0       0       0              0  \n",
       "1             0        0       0       0              0  \n",
       "2             0        0       0       0              0  \n",
       "3             0        0       0       0              0  \n",
       "4             0        0       0       0              0  "
      ]
     },
     "execution_count": 12,
     "metadata": {},
     "output_type": "execute_result"
    }
   ],
   "source": [
    "import pandas as pd\n",
    "\n",
    "# Load the extracted CSV file\n",
    "train_df = pd.read_csv('C:/Users/Darshna Mimrot/jigsaw-toxic-comment-classification/extracted/train.csv')\n",
    "\n",
    "# Preview the data\n",
    "train_df.head()\n"
   ]
  },
  {
   "cell_type": "code",
   "execution_count": 19,
   "id": "2d2c20fd-e249-49a2-a27a-435118f07f90",
   "metadata": {
    "scrolled": true
   },
   "outputs": [
    {
     "data": {
      "text/html": [
       "<div>\n",
       "<style scoped>\n",
       "    .dataframe tbody tr th:only-of-type {\n",
       "        vertical-align: middle;\n",
       "    }\n",
       "\n",
       "    .dataframe tbody tr th {\n",
       "        vertical-align: top;\n",
       "    }\n",
       "\n",
       "    .dataframe thead th {\n",
       "        text-align: right;\n",
       "    }\n",
       "</style>\n",
       "<table border=\"1\" class=\"dataframe\">\n",
       "  <thead>\n",
       "    <tr style=\"text-align: right;\">\n",
       "      <th></th>\n",
       "      <th>comment_text</th>\n",
       "      <th>cleaned_text</th>\n",
       "    </tr>\n",
       "  </thead>\n",
       "  <tbody>\n",
       "    <tr>\n",
       "      <th>0</th>\n",
       "      <td>Explanation\\nWhy the edits made under my usern...</td>\n",
       "      <td>explanation\\nwhy the edits made under my usern...</td>\n",
       "    </tr>\n",
       "    <tr>\n",
       "      <th>1</th>\n",
       "      <td>D'aww! He matches this background colour I'm s...</td>\n",
       "      <td>daww he matches this background colour im seem...</td>\n",
       "    </tr>\n",
       "    <tr>\n",
       "      <th>2</th>\n",
       "      <td>Hey man, I'm really not trying to edit war. It...</td>\n",
       "      <td>hey man im really not trying to edit war its j...</td>\n",
       "    </tr>\n",
       "    <tr>\n",
       "      <th>3</th>\n",
       "      <td>\"\\nMore\\nI can't make any real suggestions on ...</td>\n",
       "      <td>\\nmore\\ni cant make any real suggestions on im...</td>\n",
       "    </tr>\n",
       "    <tr>\n",
       "      <th>4</th>\n",
       "      <td>You, sir, are my hero. Any chance you remember...</td>\n",
       "      <td>you sir are my hero any chance you remember wh...</td>\n",
       "    </tr>\n",
       "  </tbody>\n",
       "</table>\n",
       "</div>"
      ],
      "text/plain": [
       "                                        comment_text  \\\n",
       "0  Explanation\\nWhy the edits made under my usern...   \n",
       "1  D'aww! He matches this background colour I'm s...   \n",
       "2  Hey man, I'm really not trying to edit war. It...   \n",
       "3  \"\\nMore\\nI can't make any real suggestions on ...   \n",
       "4  You, sir, are my hero. Any chance you remember...   \n",
       "\n",
       "                                        cleaned_text  \n",
       "0  explanation\\nwhy the edits made under my usern...  \n",
       "1  daww he matches this background colour im seem...  \n",
       "2  hey man im really not trying to edit war its j...  \n",
       "3  \\nmore\\ni cant make any real suggestions on im...  \n",
       "4  you sir are my hero any chance you remember wh...  "
      ]
     },
     "execution_count": 19,
     "metadata": {},
     "output_type": "execute_result"
    }
   ],
   "source": [
    "import pandas as pd\n",
    "import string\n",
    "\n",
    "# Load the extracted dataset\n",
    "train_df = pd.read_csv('C:/Users/Darshna Mimrot/jigsaw-toxic-comment-classification/extracted/train.csv')\n",
    "\n",
    "# Basic text preprocessing (convert to lowercase, remove punctuation)\n",
    "def preprocess_text(text):\n",
    "    text = text.lower()  # Convert to lowercase\n",
    "    text = ''.join([char for char in text if char not in string.punctuation])  # Remove punctuation\n",
    "    return text\n",
    "\n",
    "# Apply preprocessing to the text column\n",
    "train_df['cleaned_text'] = train_df['comment_text'].apply(preprocess_text)\n",
    "\n",
    "# Preview the data\n",
    "train_df[['comment_text', 'cleaned_text']].head()\n"
   ]
  },
  {
   "cell_type": "code",
   "execution_count": 20,
   "id": "38c7def8-bc8e-4659-af1f-f4c1555d5b02",
   "metadata": {},
   "outputs": [
    {
     "name": "stdout",
     "output_type": "stream",
     "text": [
      "   happy  angry  fear  sad\n",
      "0      1      0     1    1\n",
      "1      0      1     0    0\n",
      "2      0      0     1    0\n",
      "3      1      1     0    0\n",
      "4      1      0     1    0\n"
     ]
    }
   ],
   "source": [
    "import numpy as np\n",
    "\n",
    "# Example emotion labels\n",
    "emotion_labels = ['happy', 'angry', 'fear', 'sad']\n",
    "\n",
    "# Add random binary values for emotion labels (you can replace this with your actual labels)\n",
    "for emotion in emotion_labels:\n",
    "    train_df[emotion] = np.random.randint(0, 2, size=train_df.shape[0])\n",
    "\n",
    "# Now we combine the hate speech and emotion labels into one list\n",
    "labels = ['toxic', 'severe_toxic', 'obscene', 'threat', 'insult', 'identity_hate'] + emotion_labels\n",
    "\n",
    "# Features (cleaned text)\n",
    "X = train_df['cleaned_text']\n",
    "\n",
    "# Labels (including both hate speech and emotion labels)\n",
    "y = train_df[labels]\n",
    "\n",
    "# Check if emotion labels have been added correctly\n",
    "print(train_df[emotion_labels].head())\n"
   ]
  },
  {
   "cell_type": "code",
   "execution_count": 21,
   "id": "2c239378-560e-4a49-9eff-9fdc7813fa0a",
   "metadata": {},
   "outputs": [
    {
     "name": "stdout",
     "output_type": "stream",
     "text": [
      "   toxic  severe_toxic  obscene  threat  insult  identity_hate  happy  angry  \\\n",
      "0      0             0        0       0       0              0      1      0   \n",
      "1      0             0        0       0       0              0      1      0   \n",
      "2      0             0        0       0       0              0      1      1   \n",
      "3      0             0        0       0       0              0      0      0   \n",
      "4      0             0        0       0       0              0      1      0   \n",
      "\n",
      "   fear  sad  \n",
      "0     1    1  \n",
      "1     0    0  \n",
      "2     1    1  \n",
      "3     1    1  \n",
      "4     1    0  \n"
     ]
    }
   ],
   "source": [
    "# Example of emotion labels - you can modify this based on your specific requirements\n",
    "emotion_labels = ['happy', 'angry', 'fear', 'sad']\n",
    "\n",
    "# Combine hate speech and emotion labels into a single list\n",
    "labels = ['toxic', 'severe_toxic', 'obscene', 'threat', 'insult', 'identity_hate'] + emotion_labels\n",
    "\n",
    "# Features (cleaned text)\n",
    "X = train_df['cleaned_text']\n",
    "\n",
    "# Labels (combine hate speech labels and emotion labels)\n",
    "# Assuming that we have a simple emotion detection mapping for demonstration purposes\n",
    "y = train_df[labels]\n",
    "\n",
    "# You may need to modify this part if emotion labels come from another source\n",
    "# For the sake of example, let's create random values for emotion labels\n",
    "import numpy as np\n",
    "for emotion in emotion_labels:\n",
    "    train_df[emotion] = np.random.randint(0, 2, size=train_df.shape[0])\n",
    "\n",
    "y = train_df[labels]  # Update y to include both hate speech and emotion labels\n",
    "\n",
    "print(train_df[labels].head())\n"
   ]
  },
  {
   "cell_type": "code",
   "execution_count": 22,
   "id": "c531799b-935e-4c58-8487-2d53d94c1d14",
   "metadata": {},
   "outputs": [
    {
     "name": "stdout",
     "output_type": "stream",
     "text": [
      "Training data size: 127656 samples\n",
      "Test data size: 31915 samples\n"
     ]
    }
   ],
   "source": [
    "from sklearn.model_selection import train_test_split\n",
    "\n",
    "# Split data into training and testing sets (80% train, 20% test)\n",
    "X_train, X_test, y_train, y_test = train_test_split(X, y, test_size=0.2, random_state=42)\n",
    "\n",
    "# Check the shapes of the split data\n",
    "print(f\"Training data size: {X_train.shape[0]} samples\")\n",
    "print(f\"Test data size: {X_test.shape[0]} samples\")\n"
   ]
  },
  {
   "cell_type": "code",
   "execution_count": 23,
   "id": "32344225-f69c-42b5-956a-52c94543c46b",
   "metadata": {},
   "outputs": [
    {
     "name": "stdout",
     "output_type": "stream",
     "text": [
      "(159571, 5000)\n"
     ]
    }
   ],
   "source": [
    "from sklearn.feature_extraction.text import TfidfVectorizer\n",
    "\n",
    "# Initialize the TF-IDF Vectorizer\n",
    "vectorizer = TfidfVectorizer(max_features=5000, ngram_range=(1, 2), stop_words='english')\n",
    "\n",
    "# Fit the vectorizer and transform the cleaned text into numerical features\n",
    "X_vectorized = vectorizer.fit_transform(X)\n",
    "\n",
    "# Check the shape of the transformed data\n",
    "print(X_vectorized.shape)\n"
   ]
  },
  {
   "cell_type": "code",
   "execution_count": 24,
   "id": "e2bdcbfb-e41d-4e54-b4e5-0719ff7673b3",
   "metadata": {},
   "outputs": [
    {
     "name": "stdout",
     "output_type": "stream",
     "text": [
      "Requirement already satisfied: imbalanced-learn in c:\\users\\darshna mimrot\\appdata\\local\\programs\\python\\python313\\lib\\site-packages (0.12.4)\n",
      "Requirement already satisfied: numpy>=1.17.3 in c:\\users\\darshna mimrot\\appdata\\local\\programs\\python\\python313\\lib\\site-packages (from imbalanced-learn) (2.2.0)\n",
      "Requirement already satisfied: scipy>=1.5.0 in c:\\users\\darshna mimrot\\appdata\\local\\programs\\python\\python313\\lib\\site-packages (from imbalanced-learn) (1.14.1)\n",
      "Requirement already satisfied: scikit-learn>=1.0.2 in c:\\users\\darshna mimrot\\appdata\\local\\programs\\python\\python313\\lib\\site-packages (from imbalanced-learn) (1.6.0)\n",
      "Requirement already satisfied: joblib>=1.1.1 in c:\\users\\darshna mimrot\\appdata\\local\\programs\\python\\python313\\lib\\site-packages (from imbalanced-learn) (1.4.2)\n",
      "Requirement already satisfied: threadpoolctl>=2.0.0 in c:\\users\\darshna mimrot\\appdata\\local\\programs\\python\\python313\\lib\\site-packages (from imbalanced-learn) (3.5.0)\n"
     ]
    }
   ],
   "source": [
    "!pip install imbalanced-learn"
   ]
  },
  {
   "cell_type": "code",
   "execution_count": 25,
   "id": "b1083cd5-5953-48c9-a1da-2329d6d45605",
   "metadata": {},
   "outputs": [
    {
     "name": "stdout",
     "output_type": "stream",
     "text": [
      "Requirement already satisfied: xgboost in c:\\users\\darshna mimrot\\appdata\\local\\programs\\python\\python313\\lib\\site-packages (2.1.3)\n",
      "Requirement already satisfied: numpy in c:\\users\\darshna mimrot\\appdata\\local\\programs\\python\\python313\\lib\\site-packages (from xgboost) (2.2.0)\n",
      "Requirement already satisfied: scipy in c:\\users\\darshna mimrot\\appdata\\local\\programs\\python\\python313\\lib\\site-packages (from xgboost) (1.14.1)\n"
     ]
    }
   ],
   "source": [
    "!pip install xgboost\n"
   ]
  },
  {
   "cell_type": "code",
   "execution_count": 26,
   "id": "e599d1eb-7cdd-4b82-b349-e52f675414a4",
   "metadata": {},
   "outputs": [],
   "source": [
    "import xgboost\n"
   ]
  },
  {
   "cell_type": "code",
   "execution_count": 27,
   "id": "384b2e3e-1851-495f-98dc-c151242ca7fc",
   "metadata": {},
   "outputs": [
    {
     "name": "stdout",
     "output_type": "stream",
     "text": [
      "Current Working Directory: C:\\Users\\Darshna Mimrot\n"
     ]
    }
   ],
   "source": [
    "import os\n",
    "print(\"Current Working Directory:\", os.getcwd())\n"
   ]
  },
  {
   "cell_type": "code",
   "execution_count": 21,
   "id": "62da529d-98cd-4fd5-b16a-0e02939975ac",
   "metadata": {},
   "outputs": [
    {
     "name": "stdout",
     "output_type": "stream",
     "text": [
      "Dataset Preview:\n",
      "                 id                                       comment_text  toxic  \\\n",
      "0  0000997932d777bf  Explanation\\nWhy the edits made under my usern...      0   \n",
      "1  000103f0d9cfb60f  D'aww! He matches this background colour I'm s...      0   \n",
      "2  000113f07ec002fd  Hey man, I'm really not trying to edit war. It...      0   \n",
      "3  0001b41b1c6bb37e  \"\\nMore\\nI can't make any real suggestions on ...      0   \n",
      "4  0001d958c54c6e35  You, sir, are my hero. Any chance you remember...      0   \n",
      "\n",
      "   severe_toxic  obscene  threat  insult  identity_hate  \n",
      "0             0        0       0       0              0  \n",
      "1             0        0       0       0              0  \n",
      "2             0        0       0       0              0  \n",
      "3             0        0       0       0              0  \n",
      "4             0        0       0       0              0  \n",
      "\n",
      "Hyperparameter tuning in progress...\n",
      "Fitting 3 folds for each of 5 candidates, totalling 15 fits\n",
      "\n",
      "Training Complete. Evaluating on Test Data...\n",
      "\n",
      "Accuracy for each label:\n",
      "toxic: 0.9533\n",
      "severe_toxic: 0.9902\n",
      "obscene: 0.9777\n",
      "threat: 0.9978\n",
      "insult: 0.9704\n",
      "identity_hate: 0.9916\n",
      "\n",
      "Full Classification Report:\n",
      "               precision    recall  f1-score   support\n",
      "\n",
      "        toxic       0.93      0.56      0.69      3056\n",
      " severe_toxic       0.53      0.21      0.31       321\n",
      "      obscene       0.89      0.67      0.76      1715\n",
      "       threat       0.56      0.20      0.30        74\n",
      "       insult       0.83      0.52      0.64      1614\n",
      "identity_hate       0.67      0.18      0.28       294\n",
      "\n",
      "    micro avg       0.87      0.54      0.67      7074\n",
      "    macro avg       0.73      0.39      0.50      7074\n",
      " weighted avg       0.86      0.54      0.66      7074\n",
      "  samples avg       0.05      0.05      0.05      7074\n",
      "\n",
      "\n",
      "Model saved as 'xgboost_multi_label_model.pkl'.\n"
     ]
    }
   ],
   "source": [
    "# Import necessary libraries\n",
    "import warnings\n",
    "import numpy as np\n",
    "import pandas as pd\n",
    "from sklearn.model_selection import train_test_split, RandomizedSearchCV\n",
    "from sklearn.feature_extraction.text import TfidfVectorizer\n",
    "from sklearn.multioutput import MultiOutputClassifier\n",
    "from sklearn.metrics import accuracy_score, classification_report\n",
    "from xgboost import XGBClassifier\n",
    "import joblib\n",
    "\n",
    "# Ignore warnings\n",
    "warnings.filterwarnings(\"ignore\")\n",
    "\n",
    "# Step 1: Load and preprocess the dataset\n",
    "data_path = r'C:\\Users\\Darshna Mimrot\\jigsaw-toxic-comment-classification\\extracted\\train.csv'\n",
    "df = pd.read_csv(data_path)\n",
    "\n",
    "# Preview the dataset\n",
    "print(\"Dataset Preview:\")\n",
    "print(df.head())\n",
    "\n",
    "# Step 2: Extract features (X) and target labels (y)\n",
    "X = df['comment_text']\n",
    "y = df[['toxic', 'severe_toxic', 'obscene', 'threat', 'insult', 'identity_hate']]\n",
    "\n",
    "# Step 3: Feature extraction using TF-IDF\n",
    "vectorizer = TfidfVectorizer(max_features=3000)  # Reduced features for faster training\n",
    "X_vectorized = vectorizer.fit_transform(X)\n",
    "\n",
    "# Step 4: Split the data into train and test sets\n",
    "X_train, X_test, y_train, y_test = train_test_split(X_vectorized, y, test_size=0.2, random_state=42)\n",
    "\n",
    "# Step 5: Initialize the XGBClassifier and MultiOutputClassifier\n",
    "xgb_model = XGBClassifier(use_label_encoder=False, eval_metric='logloss', n_jobs=-1)\n",
    "\n",
    "# Wrap XGBClassifier with MultiOutputClassifier for multi-label classification\n",
    "multi_target_model = MultiOutputClassifier(xgb_model)\n",
    "\n",
    "# Step 6: Hyperparameter tuning using RandomizedSearchCV (Smaller Search Space)\n",
    "param_dist = {\n",
    "    'estimator__n_estimators': [100, 200],\n",
    "    'estimator__max_depth': [3, 5],\n",
    "    'estimator__learning_rate': [0.05, 0.1],\n",
    "    'estimator__subsample': [0.7, 1.0],\n",
    "    'estimator__colsample_bytree': [0.7, 1.0]\n",
    "}\n",
    "\n",
    "# Use RandomizedSearchCV for hyperparameter tuning\n",
    "random_search = RandomizedSearchCV(\n",
    "    multi_target_model,\n",
    "    param_distributions=param_dist,\n",
    "    n_iter=5,  # Reduced iterations\n",
    "    scoring='accuracy',\n",
    "    cv=3,  # Fewer folds to speed up training\n",
    "    verbose=2,\n",
    "    random_state=42,\n",
    "    n_jobs=-1\n",
    ")\n",
    "\n",
    "# Step 7: Fit the model on training data\n",
    "print(\"\\nHyperparameter tuning in progress...\")\n",
    "random_search.fit(X_train, y_train)\n",
    "\n",
    "# Best model after tuning\n",
    "best_model = random_search.best_estimator_\n",
    "\n",
    "# Step 8: Make predictions\n",
    "print(\"\\nTraining Complete. Evaluating on Test Data...\")\n",
    "y_pred = best_model.predict(X_test)\n",
    "\n",
    "# Step 9: Evaluate the model\n",
    "print(\"\\nAccuracy for each label:\")\n",
    "for i, column in enumerate(y.columns):\n",
    "    accuracy = accuracy_score(y_test.iloc[:, i], y_pred[:, i])\n",
    "    print(f\"{column}: {accuracy:.4f}\")\n",
    "\n",
    "# Full classification report\n",
    "print(\"\\nFull Classification Report:\")\n",
    "print(classification_report(y_test, y_pred, target_names=y.columns))\n",
    "\n",
    "# Step 10: Optional - Save the model for future use\n",
    "joblib.dump(best_model, \"xgboost_multi_label_model.pkl\")\n",
    "print(\"\\nModel saved as 'xgboost_multi_label_model.pkl'.\")\n"
   ]
  },
  {
   "cell_type": "code",
   "execution_count": 22,
   "id": "a7274103-2579-40d2-b5a7-a6ec3bbd421f",
   "metadata": {},
   "outputs": [
    {
     "name": "stdout",
     "output_type": "stream",
     "text": [
      "Cross-validation scores: [0.91753619 0.91911074 0.91727768]\n",
      "Mean cross-validation accuracy: 0.9180\n"
     ]
    }
   ],
   "source": [
    "from sklearn.model_selection import cross_val_score\n",
    "scores = cross_val_score(best_model, X_train, y_train, cv=3, scoring='accuracy')\n",
    "print(f\"Cross-validation scores: {scores}\")\n",
    "print(f\"Mean cross-validation accuracy: {scores.mean():.4f}\")\n"
   ]
  },
  {
   "cell_type": "code",
   "execution_count": 24,
   "id": "c6abc1d7-117b-4ec1-a0e6-dfa2ade58c03",
   "metadata": {},
   "outputs": [
    {
     "name": "stdout",
     "output_type": "stream",
     "text": [
      "Collecting seaborn\n",
      "  Downloading seaborn-0.13.2-py3-none-any.whl.metadata (5.4 kB)\n",
      "Requirement already satisfied: numpy!=1.24.0,>=1.20 in c:\\users\\darshna mimrot\\appdata\\local\\programs\\python\\python313\\lib\\site-packages (from seaborn) (2.2.0)\n",
      "Requirement already satisfied: pandas>=1.2 in c:\\users\\darshna mimrot\\appdata\\local\\programs\\python\\python313\\lib\\site-packages (from seaborn) (2.2.3)\n",
      "Collecting matplotlib!=3.6.1,>=3.4 (from seaborn)\n",
      "  Downloading matplotlib-3.10.0-cp313-cp313-win_amd64.whl.metadata (11 kB)\n",
      "Collecting contourpy>=1.0.1 (from matplotlib!=3.6.1,>=3.4->seaborn)\n",
      "  Downloading contourpy-1.3.1-cp313-cp313-win_amd64.whl.metadata (5.4 kB)\n",
      "Collecting cycler>=0.10 (from matplotlib!=3.6.1,>=3.4->seaborn)\n",
      "  Downloading cycler-0.12.1-py3-none-any.whl.metadata (3.8 kB)\n",
      "Collecting fonttools>=4.22.0 (from matplotlib!=3.6.1,>=3.4->seaborn)\n",
      "  Downloading fonttools-4.55.3-cp313-cp313-win_amd64.whl.metadata (168 kB)\n",
      "Collecting kiwisolver>=1.3.1 (from matplotlib!=3.6.1,>=3.4->seaborn)\n",
      "  Downloading kiwisolver-1.4.7-cp313-cp313-win_amd64.whl.metadata (6.4 kB)\n",
      "Requirement already satisfied: packaging>=20.0 in c:\\users\\darshna mimrot\\appdata\\local\\programs\\python\\python313\\lib\\site-packages (from matplotlib!=3.6.1,>=3.4->seaborn) (24.2)\n",
      "Requirement already satisfied: pillow>=8 in c:\\users\\darshna mimrot\\appdata\\local\\programs\\python\\python313\\lib\\site-packages (from matplotlib!=3.6.1,>=3.4->seaborn) (11.0.0)\n",
      "Collecting pyparsing>=2.3.1 (from matplotlib!=3.6.1,>=3.4->seaborn)\n",
      "  Downloading pyparsing-3.2.0-py3-none-any.whl.metadata (5.0 kB)\n",
      "Requirement already satisfied: python-dateutil>=2.7 in c:\\users\\darshna mimrot\\appdata\\local\\programs\\python\\python313\\lib\\site-packages (from matplotlib!=3.6.1,>=3.4->seaborn) (2.9.0.post0)\n",
      "Requirement already satisfied: pytz>=2020.1 in c:\\users\\darshna mimrot\\appdata\\local\\programs\\python\\python313\\lib\\site-packages (from pandas>=1.2->seaborn) (2024.2)\n",
      "Requirement already satisfied: tzdata>=2022.7 in c:\\users\\darshna mimrot\\appdata\\local\\programs\\python\\python313\\lib\\site-packages (from pandas>=1.2->seaborn) (2024.2)\n",
      "Requirement already satisfied: six>=1.5 in c:\\users\\darshna mimrot\\appdata\\local\\programs\\python\\python313\\lib\\site-packages (from python-dateutil>=2.7->matplotlib!=3.6.1,>=3.4->seaborn) (1.17.0)\n",
      "Downloading seaborn-0.13.2-py3-none-any.whl (294 kB)\n",
      "Downloading matplotlib-3.10.0-cp313-cp313-win_amd64.whl (8.0 MB)\n",
      "   ---------------------------------------- 0.0/8.0 MB ? eta -:--:--\n",
      "   ----------- ---------------------------- 2.4/8.0 MB 12.2 MB/s eta 0:00:01\n",
      "   ----------------------- ---------------- 4.7/8.0 MB 11.8 MB/s eta 0:00:01\n",
      "   ----------------------------------- ---- 7.1/8.0 MB 11.7 MB/s eta 0:00:01\n",
      "   ---------------------------------------- 8.0/8.0 MB 11.2 MB/s eta 0:00:00\n",
      "Downloading contourpy-1.3.1-cp313-cp313-win_amd64.whl (220 kB)\n",
      "Downloading cycler-0.12.1-py3-none-any.whl (8.3 kB)\n",
      "Downloading fonttools-4.55.3-cp313-cp313-win_amd64.whl (2.2 MB)\n",
      "   ---------------------------------------- 0.0/2.2 MB ? eta -:--:--\n",
      "   ---------------------------------------- 2.2/2.2 MB 10.8 MB/s eta 0:00:00\n",
      "Downloading kiwisolver-1.4.7-cp313-cp313-win_amd64.whl (55 kB)\n",
      "Downloading pyparsing-3.2.0-py3-none-any.whl (106 kB)\n",
      "Installing collected packages: pyparsing, kiwisolver, fonttools, cycler, contourpy, matplotlib, seaborn\n",
      "Successfully installed contourpy-1.3.1 cycler-0.12.1 fonttools-4.55.3 kiwisolver-1.4.7 matplotlib-3.10.0 pyparsing-3.2.0 seaborn-0.13.2\n"
     ]
    }
   ],
   "source": [
    "!pip install seaborn\n"
   ]
  },
  {
   "cell_type": "code",
   "execution_count": 25,
   "id": "d01b507e-45cd-4ec3-87a0-1e89dab56dee",
   "metadata": {
    "scrolled": true
   },
   "outputs": [
    {
     "data": {
      "image/png": "[encoded data removed]",
      "text/plain": [
       "<Figure size 600x600 with 1 Axes>"
      ]
     },
     "metadata": {},
     "output_type": "display_data"
    },
    {
     "data": {
      "image/png": "[encoded data removed]",
      "text/plain": [
       "<Figure size 600x600 with 1 Axes>"
      ]
     },
     "metadata": {},
     "output_type": "display_data"
    },
    {
     "data": {
      "image/png": "[encoded data removed]",
      "text/plain": [
       "<Figure size 600x600 with 1 Axes>"
      ]
     },
     "metadata": {},
     "output_type": "display_data"
    },
    {
     "data": {
      "image/png": "[encoded data removed]",
      "text/plain": [
       "<Figure size 600x600 with 1 Axes>"
      ]
     },
     "metadata": {},
     "output_type": "display_data"
    },
    {
     "data": {
      "image/png": "[encoded data removed]",
      "text/plain": [
       "<Figure size 600x600 with 1 Axes>"
      ]
     },
     "metadata": {},
     "output_type": "display_data"
    },
    {
     "data": {
      "image/png": "[encoded data removed]",
      "text/plain": [
       "<Figure size 600x600 with 1 Axes>"
      ]
     },
     "metadata": {},
     "output_type": "display_data"
    }
   ],
   "source": [
    "from sklearn.metrics import confusion_matrix\n",
    "import seaborn as sns\n",
    "import matplotlib.pyplot as plt\n",
    "\n",
    "for i, column in enumerate(y.columns):\n",
    "    cm = confusion_matrix(y_test.iloc[:, i], y_pred[:, i])\n",
    "    plt.figure(figsize=(6, 6))\n",
    "    sns.heatmap(cm, annot=True, fmt=\"d\", cmap=\"Blues\", cbar=False)\n",
    "    plt.title(f\"Confusion Matrix for {column}\")\n",
    "    plt.xlabel('Predicted')\n",
    "    plt.ylabel('True')\n",
    "    plt.show()\n"
   ]
  },
  {
   "cell_type": "code",
   "execution_count": 28,
   "id": "fb2d4f79-1498-4cfd-8377-2f13b7733867",
   "metadata": {},
   "outputs": [
    {
     "data": {
      "text/plain": [
       "['vectorizer.pkl']"
      ]
     },
     "execution_count": 28,
     "metadata": {},
     "output_type": "execute_result"
    }
   ],
   "source": [
    "import joblib\n",
    "\n",
    "# Save the model and vectorizer\n",
    "joblib.dump(best_model, \"xgboost_multi_label_model.pkl\")\n",
    "joblib.dump(vectorizer, \"vectorizer.pkl\")\n"
   ]
  },
  {
   "cell_type": "code",
   "execution_count": 29,
   "id": "5a0f7ba1-0863-4fc4-9ab3-56fd309f6041",
   "metadata": {},
   "outputs": [
    {
     "name": "stdout",
     "output_type": "stream",
     "text": [
      "Current Working Directory: C:\\Users\\Darshna Mimrot\n"
     ]
    }
   ],
   "source": [
    "import os\n",
    "\n",
    "# Get current working directory\n",
    "current_directory = os.getcwd()\n",
    "print(f\"Current Working Directory: {current_directory}\")\n"
   ]
  },
  {
   "cell_type": "code",
   "execution_count": 30,
   "id": "67e075ea-0e6f-4700-880b-d89339a5b782",
   "metadata": {},
   "outputs": [
    {
     "name": "stdout",
     "output_type": "stream",
     "text": [
      "Model Path: C:\\Users\\Darshna Mimrot\\xgboost_multi_label_model.pkl\n",
      "Vectorizer Path: C:\\Users\\Darshna Mimrot\\vectorizer.pkl\n"
     ]
    }
   ],
   "source": [
    "import os\n",
    "\n",
    "# Specify the filenames\n",
    "model_file = \"xgboost_multi_label_model.pkl\"\n",
    "vectorizer_file = \"vectorizer.pkl\"\n",
    "\n",
    "# Get the absolute paths of the files\n",
    "model_path = os.path.abspath(model_file)\n",
    "vectorizer_path = os.path.abspath(vectorizer_file)\n",
    "\n",
    "print(f\"Model Path: {model_path}\")\n",
    "print(f\"Vectorizer Path: {vectorizer_path}\")\n"
   ]
  },
  {
   "cell_type": "code",
   "execution_count": 31,
   "id": "8454c5b7-fdcf-47ca-9a59-ec270d45c29f",
   "metadata": {},
   "outputs": [
    {
     "name": "stdout",
     "output_type": "stream",
     "text": [
      "Files in the current directory:\n",
      "['.android', '.cache', '.conda', '.condarc', '.config', '.continuum', '.ipynb_checkpoints', '.ipython', '.jupyter', '.kaggle', '.matplotlib', '.python_history', '.streamlit', '.vscode', '3D Objects', 'aka.ipynb', 'anaconda3', 'ansel', 'AppData', 'Application Data', 'Contacts', 'Cookies', 'darshna.ipynb', 'Desktop', 'Documents', 'Downloads', 'Favorites', 'IntelGraphicsProfiles', 'jigsaw-toxic-comment-classification', 'jigsaw-toxic-comment-classification-challenge.zip', 'Links', 'Local Settings', 'Mimrot', 'miniproject.ipynb', 'Music', 'My Documents', 'NetHood', 'node_modules', 'NTUSER.DAT', 'ntuser.dat.LOG1', 'ntuser.dat.LOG2', 'NTUSER.DAT{a68800e4-a647-11ed-a547-bd29d9824274}.TM.blf', 'NTUSER.DAT{a68800e4-a647-11ed-a547-bd29d9824274}.TMContainer00000000000000000001.regtrans-ms', 'NTUSER.DAT{a68800e4-a647-11ed-a547-bd29d9824274}.TMContainer00000000000000000002.regtrans-ms', 'ntuser.ini', 'OneDrive', 'output.txt', 'package-lock.json', 'package.json', 'PrintHood', 'react-app', 'Recent', 'Saved Games', 'Searches', 'SendTo', 'Start Menu', 'Templates', 'Untitled.ipynb', 'Untitled1.ipynb', 'Untitled2.ipynb', 'Untitled3.ipynb', 'Untitled4.ipynb', 'Untitled5.ipynb', 'Untitled6.ipynb', 'Untitled7.ipynb', 'Untitled8.ipynb', 'Untitled9.ipynb', 'vectorizer.pkl', 'Videos', 'xgboost_multi_label_model.pkl']\n"
     ]
    }
   ],
   "source": [
    "import os\n",
    "\n",
    "# List all files in the current directory\n",
    "files_in_directory = os.listdir(current_directory)\n",
    "print(\"Files in the current directory:\")\n",
    "print(files_in_directory)\n"
   ]
  },
  {
   "cell_type": "code",
   "execution_count": 16,
   "id": "79cb22ff-4c50-4366-a99a-96b47886d3c4",
   "metadata": {},
   "outputs": [
    {
     "name": "stdout",
     "output_type": "stream",
     "text": [
      "Requirement already satisfied: xgboost in c:\\users\\darshna mimrot\\appdata\\local\\programs\\python\\python313\\lib\\site-packages (2.1.3)\n",
      "Requirement already satisfied: numpy in c:\\users\\darshna mimrot\\appdata\\local\\programs\\python\\python313\\lib\\site-packages (from xgboost) (2.2.0)\n",
      "Requirement already satisfied: scipy in c:\\users\\darshna mimrot\\appdata\\local\\programs\\python\\python313\\lib\\site-packages (from xgboost) (1.14.1)\n",
      "Note: you may need to restart the kernel to use updated packages.\n"
     ]
    }
   ],
   "source": [
    "pip install --upgrade xgboost\n"
   ]
  },
  {
   "cell_type": "code",
   "execution_count": 38,
   "id": "2352c0e2-a716-42a5-8c2a-806d3d69d41d",
   "metadata": {},
   "outputs": [
    {
     "name": "stdout",
     "output_type": "stream",
     "text": [
      "2.1.3\n"
     ]
    }
   ],
   "source": [
    "import xgboost\n",
    "print(xgboost.__version__)\n"
   ]
  },
  {
   "cell_type": "code",
   "execution_count": null,
   "id": "5f794a65-a490-4035-8eed-8dbcd3e3b1df",
   "metadata": {},
   "outputs": [],
   "source": []
  }
 ],
 "metadata": {
  "kernelspec": {
   "display_name": "Python 3 (ipykernel)",
   "language": "python",
   "name": "python3"
  },
  "language_info": {
   "codemirror_mode": {
    "name": "ipython",
    "version": 3
   },
   "file_extension": ".py",
   "mimetype": "text/x-python",
   "name": "python",
   "nbconvert_exporter": "python",
   "pygments_lexer": "ipython3",
   "version": "3.13.1"
  }
 },
 "nbformat": 4,
 "nbformat_minor": 5
}
